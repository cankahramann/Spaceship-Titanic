{
  "nbformat": 4,
  "nbformat_minor": 0,
  "metadata": {
    "colab": {
      "provenance": []
    },
    "kernelspec": {
      "name": "python3",
      "display_name": "Python 3"
    },
    "language_info": {
      "name": "python"
    }
  },
  "cells": [
    {
      "cell_type": "markdown",
      "source": [
        "# Spaceship Titanic Project\n",
        "\n",
        "This notebook demonstrates end-to-end classification project about Kaggle's Spaceship Titanic dataset. Here is the information from Kaggle:\n",
        "\n",
        "\n",
        ">In this competition your task is to predict whether a passenger was transported to an alternate dimension during the Spaceship Titanic's collision with the spacetime anomaly. To help you make these predictions, you're given a set of personal records recovered from the ship's damaged computer system.\n",
        "\n",
        "**Information about data**: Personal records for about two-thirds (~8700) of the passengers, to be used as training data for this project. You can see the relevant page: https://www.kaggle.com/competitions/spaceship-titanic/data\n",
        "\n",
        "**Evaluation Metric**:Submissions are evaluated based on their classification accuracy, the percentage of predicted labels that are correct.\n",
        "\n"
      ],
      "metadata": {
        "id": "A_Z8VvfY73Zo"
      }
    },
    {
      "cell_type": "markdown",
      "source": [
        "### 1. Exploratory Data Analysis"
      ],
      "metadata": {
        "id": "UJWSALiU875o"
      }
    },
    {
      "cell_type": "code",
      "source": [
        "# Necessary imports\n",
        "import pandas as pd\n",
        "import matplotlib.pyplot as plt\n",
        "import numpy as np\n",
        "import seaborn as sns"
      ],
      "metadata": {
        "id": "42zaK03f-Xcn"
      },
      "execution_count": null,
      "outputs": []
    },
    {
      "cell_type": "code",
      "source": [
        "# Load in the data\n",
        "from google.colab import drive\n",
        "drive.mount('/content/drive')\n",
        "\n",
        "df = pd.read_csv('/content/drive/MyDrive/ml-data/train_spaceship.csv')"
      ],
      "metadata": {
        "colab": {
          "base_uri": "https://localhost:8080/"
        },
        "id": "COpWHvD4g0_5",
        "outputId": "4731c9ca-35a6-4147-ec39-e7b219281193"
      },
      "execution_count": null,
      "outputs": [
        {
          "output_type": "stream",
          "name": "stdout",
          "text": [
            "Drive already mounted at /content/drive; to attempt to forcibly remount, call drive.mount(\"/content/drive\", force_remount=True).\n"
          ]
        }
      ]
    },
    {
      "cell_type": "code",
      "source": [
        "df.shape"
      ],
      "metadata": {
        "colab": {
          "base_uri": "https://localhost:8080/"
        },
        "id": "ag7FBvpvhjHw",
        "outputId": "7b056c67-3bcb-4dd0-c23f-a33e4ab000e1"
      },
      "execution_count": null,
      "outputs": [
        {
          "output_type": "execute_result",
          "data": {
            "text/plain": [
              "(8693, 14)"
            ]
          },
          "metadata": {},
          "execution_count": 12
        }
      ]
    },
    {
      "cell_type": "code",
      "source": [
        "df.info()"
      ],
      "metadata": {
        "colab": {
          "base_uri": "https://localhost:8080/"
        },
        "id": "BnlXG4GsiBf5",
        "outputId": "838fb183-5789-4974-dbae-f57e4c432794"
      },
      "execution_count": null,
      "outputs": [
        {
          "output_type": "stream",
          "name": "stdout",
          "text": [
            "<class 'pandas.core.frame.DataFrame'>\n",
            "RangeIndex: 8693 entries, 0 to 8692\n",
            "Data columns (total 14 columns):\n",
            " #   Column        Non-Null Count  Dtype  \n",
            "---  ------        --------------  -----  \n",
            " 0   PassengerId   8693 non-null   object \n",
            " 1   HomePlanet    8492 non-null   object \n",
            " 2   CryoSleep     8476 non-null   object \n",
            " 3   Cabin         8494 non-null   object \n",
            " 4   Destination   8511 non-null   object \n",
            " 5   Age           8514 non-null   float64\n",
            " 6   VIP           8490 non-null   object \n",
            " 7   RoomService   8512 non-null   float64\n",
            " 8   FoodCourt     8510 non-null   float64\n",
            " 9   ShoppingMall  8485 non-null   float64\n",
            " 10  Spa           8510 non-null   float64\n",
            " 11  VRDeck        8505 non-null   float64\n",
            " 12  Name          8493 non-null   object \n",
            " 13  Transported   8693 non-null   bool   \n",
            "dtypes: bool(1), float64(6), object(7)\n",
            "memory usage: 891.5+ KB\n"
          ]
        }
      ]
    },
    {
      "cell_type": "code",
      "source": [
        "# Identify missing values and decide on a strategy for handling them\n",
        "missing_values = df.isnull().sum()\n",
        "print(missing_values)"
      ],
      "metadata": {
        "colab": {
          "base_uri": "https://localhost:8080/"
        },
        "id": "DjWDOV33iN6Q",
        "outputId": "27f27cc0-fe94-4d0d-aa39-753eee944b13"
      },
      "execution_count": null,
      "outputs": [
        {
          "output_type": "stream",
          "name": "stdout",
          "text": [
            "PassengerId       0\n",
            "HomePlanet      201\n",
            "CryoSleep       217\n",
            "Cabin           199\n",
            "Destination     182\n",
            "Age             179\n",
            "VIP             203\n",
            "RoomService     181\n",
            "FoodCourt       183\n",
            "ShoppingMall    208\n",
            "Spa             183\n",
            "VRDeck          188\n",
            "Name            200\n",
            "Transported       0\n",
            "dtype: int64\n"
          ]
        }
      ]
    },
    {
      "cell_type": "code",
      "source": [
        "# Explore the relationships between features and the target variable\n",
        "feature_correlations = df.corr()['Transported'].abs().sort_values(ascending=False)\n",
        "print(feature_correlations)"
      ],
      "metadata": {
        "colab": {
          "base_uri": "https://localhost:8080/"
        },
        "id": "xyLcXWXXiZ9J",
        "outputId": "0b78c86b-e6f7-452e-84cf-33275091bf51"
      },
      "execution_count": null,
      "outputs": [
        {
          "output_type": "stream",
          "name": "stdout",
          "text": [
            "Transported     1.000000\n",
            "RoomService     0.244611\n",
            "Spa             0.221131\n",
            "VRDeck          0.207075\n",
            "Age             0.075026\n",
            "FoodCourt       0.046566\n",
            "ShoppingMall    0.010141\n",
            "Name: Transported, dtype: float64\n"
          ]
        },
        {
          "output_type": "stream",
          "name": "stderr",
          "text": [
            "<ipython-input-17-0fc59809f149>:2: FutureWarning: The default value of numeric_only in DataFrame.corr is deprecated. In a future version, it will default to False. Select only valid columns or specify the value of numeric_only to silence this warning.\n",
            "  feature_correlations = df.corr()['Transported'].abs().sort_values(ascending=False)\n"
          ]
        }
      ]
    },
    {
      "cell_type": "markdown",
      "source": [
        "Notice that luxury-related spendings have a higher correlation with the target variable. We can create a new feature out of the total spending."
      ],
      "metadata": {
        "id": "oooHSW-Ziipy"
      }
    },
    {
      "cell_type": "code",
      "source": [
        "# Select numeric features\n",
        "numeric_features = df.select_dtypes(include=['int64', 'float64']).columns\n",
        "\n",
        "# Calculate the number of rows and columns for subplots\n",
        "nrows = len(numeric_features)\n",
        "ncols = 1\n",
        "\n",
        "# Visualize the distributions of numeric features\n",
        "fig, axes = plt.subplots(nrows=nrows, ncols=ncols, figsize=(8, 20))\n",
        "fig.subplots_adjust(hspace=0.4)\n",
        "\n",
        "for i, column in enumerate(numeric_features):\n",
        "    ax = axes[i]\n",
        "    ax.hist(df[column], bins=20)\n",
        "    ax.set_xlabel(column)\n",
        "    ax.set_ylabel('Frequency')\n",
        "\n",
        "plt.show()"
      ],
      "metadata": {
        "colab": {
          "base_uri": "https://localhost:8080/",
          "height": 1000
        },
        "id": "foYaTTFyi0xG",
        "outputId": "6c3f7d2c-1c28-40fe-a148-2701554c459e"
      },
      "execution_count": null,
      "outputs": [
        {
          "output_type": "display_data",
          "data": {
            "text/plain": [
              "<Figure size 800x2000 with 6 Axes>"
            ],
            "image/png": "[encoded data removed]"
          },
          "metadata": {}
        }
      ]
    },
    {
      "cell_type": "markdown",
      "source": [
        "Numeric variables have a very skewed distribution, we can normalize them and fill the missing values with the median later."
      ],
      "metadata": {
        "id": "x1fFqKcZi3jk"
      }
    },
    {
      "cell_type": "code",
      "source": [
        "# Examine the target variable\n",
        "# Count the occurrences of each clas\n",
        "class_counts = df['Transported'].value_counts()\n",
        "\n",
        "# Visualize the distribution of the target variable\n",
        "plt.figure(figsize=(6, 4))\n",
        "plt.bar(class_counts.index, class_counts.values)\n",
        "plt.xlabel('Transported')\n",
        "plt.ylabel('Count')\n",
        "plt.xticks([0, 1], ['False', 'True'])\n",
        "plt.title('Distribution of Target Variable')\n",
        "plt.show()"
      ],
      "metadata": {
        "colab": {
          "base_uri": "https://localhost:8080/",
          "height": 410
        },
        "id": "LoIGVP7ajH0a",
        "outputId": "d07e4bbf-d5df-4330-c638-f908abe558e0"
      },
      "execution_count": null,
      "outputs": [
        {
          "output_type": "display_data",
          "data": {
            "text/plain": [
              "<Figure size 600x400 with 1 Axes>"
            ],
            "image/png": "[encoded data removed]"
          },
          "metadata": {}
        }
      ]
    },
    {
      "cell_type": "code",
      "source": [
        "# Define the categorical features of interest\n",
        "categorical_features = ['HomePlanet', 'CryoSleep']\n",
        "\n",
        "# Create bar plots for each categorical feature\n",
        "for feature in categorical_features:\n",
        "    # Count the occurrences of each class within the feature\n",
        "    class_counts = df.groupby(feature)['Transported'].value_counts().unstack()\n",
        "\n",
        "    # Plot the distribution of the target variable for different categories/levels\n",
        "    class_counts.plot(kind='bar', stacked=True)\n",
        "    plt.xlabel(feature)\n",
        "    plt.ylabel('Count')\n",
        "    plt.title('Distribution of Target Variable for {}'.format(feature))\n",
        "    plt.legend(['False', 'True'])\n",
        "    plt.show()"
      ],
      "metadata": {
        "colab": {
          "base_uri": "https://localhost:8080/",
          "height": 983
        },
        "id": "4zfyqRtvjNnN",
        "outputId": "81e7553b-d5d1-412b-d154-38a8ec3b3a62"
      },
      "execution_count": null,
      "outputs": [
        {
          "output_type": "display_data",
          "data": {
            "text/plain": [
              "<Figure size 640x480 with 1 Axes>"
            ],
            "image/png": "[encoded data removed]"
          },
          "metadata": {}
        },
        {
          "output_type": "display_data",
          "data": {
            "text/plain": [
              "<Figure size 640x480 with 1 Axes>"
            ],
            "image/png": "[encoded data removed]"
          },
          "metadata": {}
        }
      ]
    },
    {
      "cell_type": "markdown",
      "source": [
        "Notice that CryoSleep variable is an important indicator of whether someone has transferred to the alternate dimension. It's immensely larger for True labeled instances. We might want to drop all the missing values later when preprocessing the data."
      ],
      "metadata": {
        "id": "yk4fxbdVk4-u"
      }
    },
    {
      "cell_type": "code",
      "source": [
        "# Find categorical features\n",
        "categorical_features = df.select_dtypes(include=['object']).columns\n",
        "\n",
        "# Print number of unique values in each category\n",
        "for feature in categorical_features:\n",
        "    unique_count = df[feature].nunique()\n",
        "    print(\"Number of unique values in '{}': {}\".format(feature, unique_count))\n"
      ],
      "metadata": {
        "colab": {
          "base_uri": "https://localhost:8080/"
        },
        "id": "8nWkz4qdlc67",
        "outputId": "5318d076-271f-4d73-a0b4-a6217b4af345"
      },
      "execution_count": null,
      "outputs": [
        {
          "output_type": "stream",
          "name": "stdout",
          "text": [
            "Number of unique values in 'PassengerId': 8693\n",
            "Number of unique values in 'HomePlanet': 3\n",
            "Number of unique values in 'CryoSleep': 2\n",
            "Number of unique values in 'Cabin': 6560\n",
            "Number of unique values in 'Destination': 3\n",
            "Number of unique values in 'VIP': 2\n",
            "Number of unique values in 'Name': 8473\n"
          ]
        }
      ]
    },
    {
      "cell_type": "markdown",
      "source": [
        "*PassengerId*, *Cabin* and *Name* have high cardinality. But before dropping them, we might want to examine further because we might engineer new features out of them."
      ],
      "metadata": {
        "id": "pgI8ojJfliF0"
      }
    },
    {
      "cell_type": "markdown",
      "source": [
        "### 2. Data Preprocessing & Feature Engineering"
      ],
      "metadata": {
        "id": "061_5PWBl7Rr"
      }
    },
    {
      "cell_type": "code",
      "source": [
        "df = pd.read_csv('/content/drive/MyDrive/ml-data/train_spaceship.csv')\n",
        "df.head()"
      ],
      "metadata": {
        "colab": {
          "base_uri": "https://localhost:8080/",
          "height": 356
        },
        "id": "0ww5TKxpnOgX",
        "outputId": "5d56d96d-2c62-4db3-9b09-32f88a6fb57f"
      },
      "execution_count": null,
      "outputs": [
        {
          "output_type": "execute_result",
          "data": {
            "text/plain": [
              "  PassengerId HomePlanet CryoSleep  Cabin  Destination   Age    VIP  \\\n",
              "0     0001_01     Europa     False  B/0/P  TRAPPIST-1e  39.0  False   \n",
              "1     0002_01      Earth     False  F/0/S  TRAPPIST-1e  24.0  False   \n",
              "2     0003_01     Europa     False  A/0/S  TRAPPIST-1e  58.0   True   \n",
              "3     0003_02     Europa     False  A/0/S  TRAPPIST-1e  33.0  False   \n",
              "4     0004_01      Earth     False  F/1/S  TRAPPIST-1e  16.0  False   \n",
              "\n",
              "   RoomService  FoodCourt  ShoppingMall     Spa  VRDeck               Name  \\\n",
              "0          0.0        0.0           0.0     0.0     0.0    Maham Ofracculy   \n",
              "1        109.0        9.0          25.0   549.0    44.0       Juanna Vines   \n",
              "2         43.0     3576.0           0.0  6715.0    49.0      Altark Susent   \n",
              "3          0.0     1283.0         371.0  3329.0   193.0       Solam Susent   \n",
              "4        303.0       70.0         151.0   565.0     2.0  Willy Santantines   \n",
              "\n",
              "   Transported  \n",
              "0        False  \n",
              "1         True  \n",
              "2        False  \n",
              "3        False  \n",
              "4         True  "
            ],
            "text/html": [
              "\n",
              "  <div id=\"df-d5329dde-17ca-431f-8c83-d89147d23b15\">\n",
              "    <div class=\"colab-df-container\">\n",
              "      <div>\n",
              "<style scoped>\n",
              "    .dataframe tbody tr th:only-of-type {\n",
              "        vertical-align: middle;\n",
              "    }\n",
              "\n",
              "    .dataframe tbody tr th {\n",
              "        vertical-align: top;\n",
              "    }\n",
              "\n",
              "    .dataframe thead th {\n",
              "        text-align: right;\n",
              "    }\n",
              "</style>\n",
              "<table border=\"1\" class=\"dataframe\">\n",
              "  <thead>\n",
              "    <tr style=\"text-align: right;\">\n",
              "      <th></th>\n",
              "      <th>PassengerId</th>\n",
              "      <th>HomePlanet</th>\n",
              "      <th>CryoSleep</th>\n",
              "      <th>Cabin</th>\n",
              "      <th>Destination</th>\n",
              "      <th>Age</th>\n",
              "      <th>VIP</th>\n",
              "      <th>RoomService</th>\n",
              "      <th>FoodCourt</th>\n",
              "      <th>ShoppingMall</th>\n",
              "      <th>Spa</th>\n",
              "      <th>VRDeck</th>\n",
              "      <th>Name</th>\n",
              "      <th>Transported</th>\n",
              "    </tr>\n",
              "  </thead>\n",
              "  <tbody>\n",
              "    <tr>\n",
              "      <th>0</th>\n",
              "      <td>0001_01</td>\n",
              "      <td>Europa</td>\n",
              "      <td>False</td>\n",
              "      <td>B/0/P</td>\n",
              "      <td>TRAPPIST-1e</td>\n",
              "      <td>39.0</td>\n",
              "      <td>False</td>\n",
              "      <td>0.0</td>\n",
              "      <td>0.0</td>\n",
              "      <td>0.0</td>\n",
              "      <td>0.0</td>\n",
              "      <td>0.0</td>\n",
              "      <td>Maham Ofracculy</td>\n",
              "      <td>False</td>\n",
              "    </tr>\n",
              "    <tr>\n",
              "      <th>1</th>\n",
              "      <td>0002_01</td>\n",
              "      <td>Earth</td>\n",
              "      <td>False</td>\n",
              "      <td>F/0/S</td>\n",
              "      <td>TRAPPIST-1e</td>\n",
              "      <td>24.0</td>\n",
              "      <td>False</td>\n",
              "      <td>109.0</td>\n",
              "      <td>9.0</td>\n",
              "      <td>25.0</td>\n",
              "      <td>549.0</td>\n",
              "      <td>44.0</td>\n",
              "      <td>Juanna Vines</td>\n",
              "      <td>True</td>\n",
              "    </tr>\n",
              "    <tr>\n",
              "      <th>2</th>\n",
              "      <td>0003_01</td>\n",
              "      <td>Europa</td>\n",
              "      <td>False</td>\n",
              "      <td>A/0/S</td>\n",
              "      <td>TRAPPIST-1e</td>\n",
              "      <td>58.0</td>\n",
              "      <td>True</td>\n",
              "      <td>43.0</td>\n",
              "      <td>3576.0</td>\n",
              "      <td>0.0</td>\n",
              "      <td>6715.0</td>\n",
              "      <td>49.0</td>\n",
              "      <td>Altark Susent</td>\n",
              "      <td>False</td>\n",
              "    </tr>\n",
              "    <tr>\n",
              "      <th>3</th>\n",
              "      <td>0003_02</td>\n",
              "      <td>Europa</td>\n",
              "      <td>False</td>\n",
              "      <td>A/0/S</td>\n",
              "      <td>TRAPPIST-1e</td>\n",
              "      <td>33.0</td>\n",
              "      <td>False</td>\n",
              "      <td>0.0</td>\n",
              "      <td>1283.0</td>\n",
              "      <td>371.0</td>\n",
              "      <td>3329.0</td>\n",
              "      <td>193.0</td>\n",
              "      <td>Solam Susent</td>\n",
              "      <td>False</td>\n",
              "    </tr>\n",
              "    <tr>\n",
              "      <th>4</th>\n",
              "      <td>0004_01</td>\n",
              "      <td>Earth</td>\n",
              "      <td>False</td>\n",
              "      <td>F/1/S</td>\n",
              "      <td>TRAPPIST-1e</td>\n",
              "      <td>16.0</td>\n",
              "      <td>False</td>\n",
              "      <td>303.0</td>\n",
              "      <td>70.0</td>\n",
              "      <td>151.0</td>\n",
              "      <td>565.0</td>\n",
              "      <td>2.0</td>\n",
              "      <td>Willy Santantines</td>\n",
              "      <td>True</td>\n",
              "    </tr>\n",
              "  </tbody>\n",
              "</table>\n",
              "</div>\n",
              "      <button class=\"colab-df-convert\" onclick=\"convertToInteractive('df-d5329dde-17ca-431f-8c83-d89147d23b15')\"\n",
              "              title=\"Convert this dataframe to an interactive table.\"\n",
              "              style=\"display:none;\">\n",
              "        \n",
              "  <svg xmlns=\"http://www.w3.org/2000/svg\" height=\"24px\"viewBox=\"0 0 24 24\"\n",
              "       width=\"24px\">\n",
              "    <path d=\"M0 0h24v24H0V0z\" fill=\"none\"/>\n",
              "    <path d=\"M18.56 5.44l.94 2.06.94-2.06 2.06-.94-2.06-.94-.94-2.06-.94 2.06-2.06.94zm-11 1L8.5 8.5l.94-2.06 2.06-.94-2.06-.94L8.5 2.5l-.94 2.06-2.06.94zm10 10l.94 2.06.94-2.06 2.06-.94-2.06-.94-.94-2.06-.94 2.06-2.06.94z\"/><path d=\"M17.41 7.96l-1.37-1.37c-.4-.4-.92-.59-1.43-.59-.52 0-1.04.2-1.43.59L10.3 9.45l-7.72 7.72c-.78.78-.78 2.05 0 2.83L4 21.41c.39.39.9.59 1.41.59.51 0 1.02-.2 1.41-.59l7.78-7.78 2.81-2.81c.8-.78.8-2.07 0-2.86zM5.41 20L4 18.59l7.72-7.72 1.47 1.35L5.41 20z\"/>\n",
              "  </svg>\n",
              "      </button>\n",
              "      \n",
              "  <style>\n",
              "    .colab-df-container {\n",
              "      display:flex;\n",
              "      flex-wrap:wrap;\n",
              "      gap: 12px;\n",
              "    }\n",
              "\n",
              "    .colab-df-convert {\n",
              "      background-color: #E8F0FE;\n",
              "      border: none;\n",
              "      border-radius: 50%;\n",
              "      cursor: pointer;\n",
              "      display: none;\n",
              "      fill: #1967D2;\n",
              "      height: 32px;\n",
              "      padding: 0 0 0 0;\n",
              "      width: 32px;\n",
              "    }\n",
              "\n",
              "    .colab-df-convert:hover {\n",
              "      background-color: #E2EBFA;\n",
              "      box-shadow: 0px 1px 2px rgba(60, 64, 67, 0.3), 0px 1px 3px 1px rgba(60, 64, 67, 0.15);\n",
              "      fill: #174EA6;\n",
              "    }\n",
              "\n",
              "    [theme=dark] .colab-df-convert {\n",
              "      background-color: #3B4455;\n",
              "      fill: #D2E3FC;\n",
              "    }\n",
              "\n",
              "    [theme=dark] .colab-df-convert:hover {\n",
              "      background-color: #434B5C;\n",
              "      box-shadow: 0px 1px 3px 1px rgba(0, 0, 0, 0.15);\n",
              "      filter: drop-shadow(0px 1px 2px rgba(0, 0, 0, 0.3));\n",
              "      fill: #FFFFFF;\n",
              "    }\n",
              "  </style>\n",
              "\n",
              "      <script>\n",
              "        const buttonEl =\n",
              "          document.querySelector('#df-d5329dde-17ca-431f-8c83-d89147d23b15 button.colab-df-convert');\n",
              "        buttonEl.style.display =\n",
              "          google.colab.kernel.accessAllowed ? 'block' : 'none';\n",
              "\n",
              "        async function convertToInteractive(key) {\n",
              "          const element = document.querySelector('#df-d5329dde-17ca-431f-8c83-d89147d23b15');\n",
              "          const dataTable =\n",
              "            await google.colab.kernel.invokeFunction('convertToInteractive',\n",
              "                                                     [key], {});\n",
              "          if (!dataTable) return;\n",
              "\n",
              "          const docLinkHtml = 'Like what you see? Visit the ' +\n",
              "            '<a target=\"_blank\" href=https://colab.research.google.com/notebooks/data_table.ipynb>data table notebook</a>'\n",
              "            + ' to learn more about interactive tables.';\n",
              "          element.innerHTML = '';\n",
              "          dataTable['output_type'] = 'display_data';\n",
              "          await google.colab.output.renderOutput(dataTable, element);\n",
              "          const docLink = document.createElement('div');\n",
              "          docLink.innerHTML = docLinkHtml;\n",
              "          element.appendChild(docLink);\n",
              "        }\n",
              "      </script>\n",
              "    </div>\n",
              "  </div>\n",
              "  "
            ]
          },
          "metadata": {},
          "execution_count": 94
        }
      ]
    },
    {
      "cell_type": "code",
      "source": [
        "# Create preprocessing function so that we can use it on the test set\n",
        "\n",
        "def preprocessing(df):\n",
        "    # Select numeric columns\n",
        "    numeric_cols = df.select_dtypes(include=np.number).columns\n",
        "\n",
        "    # Fill missing values with median\n",
        "    df[numeric_cols] = df[numeric_cols].fillna(df[numeric_cols].median())\n",
        "\n",
        "    # Find categorical variables\n",
        "    categorical_columns = df.select_dtypes(include='object').columns\n",
        "\n",
        "    # Fill missing values in categorical variables\n",
        "    df[categorical_columns] = df[categorical_columns].fillna('missing')\n",
        "\n",
        "    # Convert Boolean values to strings\n",
        "    df['CryoSleep'] = df['CryoSleep'].astype(str)\n",
        "    df['VIP'] = df['VIP'].astype(str)\n",
        "    df['Transported'] = df['Transported'].astype(str)\n",
        "\n",
        "    # Drop Name\n",
        "    df.drop('Name', axis=1, inplace=True)\n",
        "\n",
        "\n",
        "\n",
        "def feature_engineering(df):\n",
        "    # ---------------------------------------------------------\n",
        "    # Feature 1) Group Size\n",
        "    # ---------------------------------------------------------\n",
        "\n",
        "    # Split the PassengerId column to extract group and individual numbers\n",
        "    split_ids = df['PassengerId'].str.split('_', expand=True)\n",
        "\n",
        "    # Extract the group number\n",
        "    df['Group'] = split_ids[0]\n",
        "\n",
        "    # Extract the individual number and convert to integer\n",
        "    df['Individual'] = split_ids[1].astype(int)\n",
        "\n",
        "    # Calculate the maximum group size\n",
        "    group_sizes = df.groupby('Group')['Individual'].max()\n",
        "\n",
        "    # Map the maximum group size to each passenger\n",
        "    df['GroupSize'] = df['Group'].map(group_sizes)\n",
        "\n",
        "    # Drop additional features we've created to make GroupSize\n",
        "    df.drop(['Group', 'Individual', 'PassengerId'], axis=1, inplace=True)\n",
        "\n",
        "    # ---------------------------------------------------------\n",
        "    # Feature 2) Cabin Side\n",
        "    # ---------------------------------------------------------\n",
        "\n",
        "    # Extract Cabin Side from Cabin variable\n",
        "    df['CabinSide'] = df['Cabin'].str.split('/').str[-1]\n",
        "\n",
        "    # ---------------------------------------------------------\n",
        "    # Feature 3) Cabin Deck\n",
        "    # ---------------------------------------------------------\n",
        "\n",
        "    # Extract Cabin Deck from Cabin variable\n",
        "    df['CabinDeck'] = df['Cabin'].str.split('/').str[0]\n",
        "\n",
        "    # Drop Cabin since it has high number of unique values\n",
        "    df.drop(['Cabin'], axis=1, inplace=True)\n",
        "\n",
        "    # ---------------------------------------------------------\n",
        "    # Feature 4) Age Categories\n",
        "    # ---------------------------------------------------------\n",
        "\n",
        "    # Define the age ranges for the different categories\n",
        "    age_bins = [0, 10, 18, 30, 50, float('inf')]  # Customize the age ranges as per your preference\n",
        "\n",
        "    # Define the labels for the age categories\n",
        "    age_labels = ['Children', 'Teenagers', 'Young Adults', 'Middle-aged', 'Elderly']\n",
        "\n",
        "    # Create the \"AgeGroup\" feature by binning the ages\n",
        "    df['AgeGroup'] = pd.cut(df['Age'], bins=age_bins, labels=age_labels, right=False)\n",
        "\n",
        "\n",
        "    # ---------------------------------------------------------\n",
        "    # Feature 5) Total Luxury Spending\n",
        "    # ---------------------------------------------------------\n",
        "\n",
        "    # Sum up the luxury spending for each passenger\n",
        "    df['TotalLuxurySpending'] = df[['RoomService', 'FoodCourt', 'ShoppingMall', 'Spa', 'VRDeck']].sum(axis=1)\n"
      ],
      "metadata": {
        "id": "2-wUgXVdl-w6"
      },
      "execution_count": null,
      "outputs": []
    },
    {
      "cell_type": "code",
      "source": [
        "# Clean and engineer new features to df\n",
        "preprocessing(df)\n",
        "feature_engineering(df)"
      ],
      "metadata": {
        "id": "5JYU5GYcmCDU"
      },
      "execution_count": null,
      "outputs": []
    },
    {
      "cell_type": "code",
      "source": [
        "from sklearn.preprocessing import MinMaxScaler, StandardScaler\n",
        "\n",
        "# Create a function for MinMaxScaler\n",
        "def min_max_scaling(df):\n",
        "    scaler = MinMaxScaler()\n",
        "    numeric_columns = df.select_dtypes(include='number').columns\n",
        "    df_scaled = df.copy()  # Create a copy of the original dataframe\n",
        "    df_scaled[numeric_columns] = scaler.fit_transform(df_scaled[numeric_columns])\n",
        "    return df_scaled\n",
        "\n",
        "# Create a function for StandardScaler\n",
        "def standard_scaling(df):\n",
        "    scaler = StandardScaler()\n",
        "    numeric_columns = df.select_dtypes(include='number').columns\n",
        "    df_scaled = df.copy()  # Create a copy of the original dataframe\n",
        "    df_scaled[numeric_columns] = scaler.fit_transform(df_scaled[numeric_columns])\n",
        "    return df_scaled\n",
        "\n",
        "# Apply MinMaxScaler to numeric columns\n",
        "df_min_max_scaled = min_max_scaling(df)\n",
        "\n",
        "# Apply StandardScaler to numeric columns\n",
        "df_standard_scaled = standard_scaling(df)"
      ],
      "metadata": {
        "id": "CgfuAuk-mNJi"
      },
      "execution_count": null,
      "outputs": []
    },
    {
      "cell_type": "code",
      "source": [
        "def encode_categorical(df):\n",
        "    # Get the list of categorical columns excluding 'Transported'\n",
        "    categorical_columns = df.select_dtypes(include=['object', 'category']).columns.drop('Transported')\n",
        "\n",
        "    # Perform one-hot encoding for categorical columns except 'Transported'\n",
        "    df_encoded = pd.get_dummies(df, columns=categorical_columns)\n",
        "\n",
        "    # Transform the independent variable\n",
        "    df_encoded['Transported'] = df_encoded['Transported'].map({'True': 1, 'False': 0})\n",
        "\n",
        "\n",
        "    return df_encoded"
      ],
      "metadata": {
        "id": "L4hM0hsWmPhI"
      },
      "execution_count": null,
      "outputs": []
    },
    {
      "cell_type": "code",
      "source": [
        "# One hot encode the categorical variables\n",
        "df_encoded_minmax = encode_categorical(df_min_max_scaled)\n",
        "df_encoded_std = encode_categorical(df_standard_scaled)"
      ],
      "metadata": {
        "id": "4fv_M-YTmTcK"
      },
      "execution_count": null,
      "outputs": []
    },
    {
      "cell_type": "markdown",
      "source": [
        "### 3. Model Training & HyperParameter Tuning"
      ],
      "metadata": {
        "id": "OeeHUuvcpy69"
      }
    },
    {
      "cell_type": "code",
      "source": [
        "from sklearn.model_selection import train_test_split\n",
        "\n",
        "X_minmax = df_encoded_minmax.drop('Transported', axis=1)\n",
        "y_minmax = df_encoded_minmax['Transported']\n",
        "\n",
        "X_train, X_test, y_train, y_test = train_test_split(X_minmax,\n",
        "                                                    y_minmax,\n",
        "                                                    test_size=0.3,\n",
        "                                                    random_state=42)"
      ],
      "metadata": {
        "id": "cSGTGJ7hrA_N"
      },
      "execution_count": null,
      "outputs": []
    },
    {
      "cell_type": "code",
      "source": [
        "from sklearn.linear_model import LogisticRegression\n",
        "from sklearn.tree import DecisionTreeClassifier\n",
        "from sklearn.ensemble import RandomForestClassifier\n",
        "from sklearn.svm import SVC\n",
        "from sklearn.ensemble import GradientBoostingClassifier\n",
        "from sklearn.neural_network import MLPClassifier\n",
        "\n",
        "# Create a dictionary for each algorithm\n",
        "algorithms = {\n",
        "    'Logistic Regression': LogisticRegression(),\n",
        "    'Decision Tree': DecisionTreeClassifier(),\n",
        "    'Random Forest': RandomForestClassifier(),\n",
        "    'SVM': SVC(),\n",
        "    'Gradient Boosting': GradientBoostingClassifier(),\n",
        "    'Neural Network': MLPClassifier()\n",
        "}\n",
        "\n",
        "# Initialize a dictionary to store the initial scores\n",
        "base_scores = {}\n",
        "\n",
        "# Fit each algorithm and calculate initial scores\n",
        "for name, algorithm in algorithms.items():\n",
        "    algorithm.fit(X_train, y_train)\n",
        "    score = algorithm.score(X_test, y_test)\n",
        "    base_scores[name] = score\n",
        "\n",
        "# Print the initial scores\n",
        "for name, score in base_scores.items():\n",
        "    print(f\"{name}: {score}\")\n"
      ],
      "metadata": {
        "colab": {
          "base_uri": "https://localhost:8080/"
        },
        "id": "mnpypHGVrXq0",
        "outputId": "16a61d44-1859-4889-cb38-0ee606fd2dd2"
      },
      "execution_count": null,
      "outputs": [
        {
          "output_type": "stream",
          "name": "stderr",
          "text": [
            "/usr/local/lib/python3.10/dist-packages/sklearn/linear_model/_logistic.py:458: ConvergenceWarning: lbfgs failed to converge (status=1):\n",
            "STOP: TOTAL NO. of ITERATIONS REACHED LIMIT.\n",
            "\n",
            "Increase the number of iterations (max_iter) or scale the data as shown in:\n",
            "    https://scikit-learn.org/stable/modules/preprocessing.html\n",
            "Please also refer to the documentation for alternative solver options:\n",
            "    https://scikit-learn.org/stable/modules/linear_model.html#logistic-regression\n",
            "  n_iter_i = _check_optimize_result(\n"
          ]
        },
        {
          "output_type": "stream",
          "name": "stdout",
          "text": [
            "Logistic Regression: 0.7641871165644172\n",
            "Decision Tree: 0.7381134969325154\n",
            "Random Forest: 0.7825920245398773\n",
            "SVM: 0.7553680981595092\n",
            "Gradient Boosting: 0.7914110429447853\n",
            "Neural Network: 0.790260736196319\n"
          ]
        }
      ]
    },
    {
      "cell_type": "code",
      "source": [
        "from sklearn.model_selection import GridSearchCV\n",
        "from sklearn.ensemble import GradientBoostingClassifier\n",
        "\n",
        "# Define the hyperparameter grid\n",
        "param_grid = {\n",
        "    'learning_rate': [0.1, 0.01],\n",
        "    'n_estimators': [100, 200],\n",
        "    'max_depth': [3, 5, 7],\n",
        "    'min_samples_split': [2, 4, 6],\n",
        "    'min_samples_leaf': [1, 2, 3]\n",
        "}\n",
        "\n",
        "# Create the Gradient Boosting Classifier\n",
        "gbc = GradientBoostingClassifier()\n",
        "\n",
        "# Create GridSearchCV object\n",
        "grid_search = GridSearchCV(gbc, param_grid, cv=2)\n",
        "\n",
        "# Fit the grid search to the training data\n",
        "grid_search.fit(X_train, y_train)\n",
        "\n",
        "# Get the best hyperparameters\n",
        "best_params = grid_search.best_params_\n",
        "print(\"Best Hyperparameters:\", best_params)\n",
        "\n",
        "# Get the best score\n",
        "best_score = grid_search.best_score_\n",
        "print(\"Best Score:\", best_score)"
      ],
      "metadata": {
        "colab": {
          "base_uri": "https://localhost:8080/"
        },
        "id": "fcfldBsssrmV",
        "outputId": "6c14af6c-88e9-4e3c-8160-a66942fe28dc"
      },
      "execution_count": null,
      "outputs": [
        {
          "output_type": "stream",
          "name": "stdout",
          "text": [
            "Best Hyperparameters: {'learning_rate': 0.1, 'max_depth': 3, 'min_samples_leaf': 2, 'min_samples_split': 6, 'n_estimators': 200}\n",
            "Best Score: 0.8039444706953996\n"
          ]
        }
      ]
    },
    {
      "cell_type": "code",
      "source": [],
      "metadata": {
        "id": "wVzRvk82s6AY"
      },
      "execution_count": null,
      "outputs": []
    }
  ]
}