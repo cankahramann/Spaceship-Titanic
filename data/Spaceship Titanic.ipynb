{
 "cells": [
  {
   "cell_type": "markdown",
   "id": "7e990cdd",
   "metadata": {},
   "source": [
    "Project Roadmap:\n",
    "\n",
    "1) Data Exploration and Understanding:\n",
    "\n",
    "* Load the training dataset (train.csv) and examine its structure.\n",
    "* Analyze the features and their data types.\n",
    "* Identify missing values and decide on an appropriate strategy for handling them.\n",
    "* Study the distribution of the target variable (Transported) to understand the class imbalance, if any.\n",
    "* Explore the relationships between features and the target variable.\n",
    "\n",
    "2) Data Cleaning and Preprocessing:\n",
    "\n",
    "* Handle missing values by imputation or deletion, depending on the feature and the amount of missing data.\n",
    "* Convert categorical variables into numerical representations (e.g., one-hot encoding or label encoding).\n",
    "* Perform feature scaling/normalization if required.\n",
    "* Extract useful information from the existing features (e.g., extract titles from names or create age groups).\n",
    "* Consider dropping irrelevant or redundant features.\n",
    "\n",
    "3)Feature Engineering:\n",
    "\n",
    "* Create new features based on domain knowledge or insights gained during data exploration.\n",
    "* Generate interaction or polynomial features to capture non-linear relationships.\n",
    "* Handle categorical variables with high cardinality (e.g., by using feature hashing or target encoding).\n",
    "* Perform dimensionality reduction techniques if necessary (e.g., PCA, LDA).\n",
    "\n",
    "4)Model Training:\n",
    "\n",
    "* Split the training data into train and validation sets for model evaluation.\n",
    "* Select appropriate evaluation metrics based on the problem and the data characteristics (e.g., accuracy, precision, recall, F1-score).\n",
    "* Choose suitable machine learning algorithms for binary classification (e.g., logistic regression, decision trees, random forest, gradient boosting, neural networks).\n",
    "* Train multiple models using different algorithms and compare their performances.\n",
    "* Optimize hyperparameters of the chosen models using techniques like grid search, random search, or Bayesian optimization.\n",
    "\n",
    "5) Model Evaluation and Improvement:\n",
    "\n",
    "* Evaluate the trained models on the validation set using the selected metrics.\n",
    "* Analyze the model's performance and identify areas for improvement (e.g., high bias or high variance).\n",
    "* Iterate on feature engineering, data cleaning, and preprocessing steps to improve model performance.\n",
    "* Consider ensemble techniques (e.g., stacking, bagging, boosting) to further enhance model performance.\n",
    "* Utilize techniques like cross-validation or bootstrap aggregation to estimate the model's generalization error.\n",
    "\n",
    "6) Final Model Selection and Testing:\n",
    "\n",
    "* Select the best-performing model based on the evaluation metrics and generalization performance.\n",
    "* Retrain the selected model on the entire training dataset.\n",
    "* Apply the chosen preprocessing steps and feature transformations on the test dataset (test.csv).\n",
    "* Use the trained model to predict the target variable (Transported) for the test dataset.\n",
    "* Prepare the submission file (sample_submission.csv) with the predicted values.\n",
    "\n",
    "7) Documentation and Reporting:\n",
    "\n",
    "* Document the entire project, including the steps performed, methodologies, algorithms, and techniques used.\n",
    "* Prepare visualizations (using libraries such as Matplotlib and Seaborn) to present insights and findings.\n",
    "* Summarize the project, highlighting the key challenges faced, solutions implemented, and the final model's performance.\n",
    "* Create a well-structured and detailed report or notebook to showcase the project in your portfolio."
   ]
  },
  {
   "cell_type": "markdown",
   "id": "812c1416",
   "metadata": {},
   "source": [
    "### 1. Exploratory Data Analysis"
   ]
  },
  {
   "cell_type": "code",
   "execution_count": 1,
   "id": "5fb540ef",
   "metadata": {},
   "outputs": [],
   "source": [
    "import pandas as pd\n",
    "import matplotlib.pyplot as plt\n",
    "import numpy as np\n",
    "import seaborn as sns"
   ]
  },
  {
   "cell_type": "code",
   "execution_count": 2,
   "id": "5f2c9f8d",
   "metadata": {},
   "outputs": [],
   "source": [
    "df = pd.read_csv(\"data/train.csv\")"
   ]
  },
  {
   "cell_type": "code",
   "execution_count": 3,
   "id": "33b98129",
   "metadata": {},
   "outputs": [
    {
     "data": {
      "text/plain": [
       "(8693, 14)"
      ]
     },
     "execution_count": 3,
     "metadata": {},
     "output_type": "execute_result"
    }
   ],
   "source": [
    "df.shape"
   ]
  },
  {
   "cell_type": "code",
   "execution_count": 4,
   "id": "7884537c",
   "metadata": {},
   "outputs": [
    {
     "name": "stdout",
     "output_type": "stream",
     "text": [
      "<class 'pandas.core.frame.DataFrame'>\n",
      "RangeIndex: 8693 entries, 0 to 8692\n",
      "Data columns (total 14 columns):\n",
      " #   Column        Non-Null Count  Dtype  \n",
      "---  ------        --------------  -----  \n",
      " 0   PassengerId   8693 non-null   object \n",
      " 1   HomePlanet    8492 non-null   object \n",
      " 2   CryoSleep     8476 non-null   object \n",
      " 3   Cabin         8494 non-null   object \n",
      " 4   Destination   8511 non-null   object \n",
      " 5   Age           8514 non-null   float64\n",
      " 6   VIP           8490 non-null   object \n",
      " 7   RoomService   8512 non-null   float64\n",
      " 8   FoodCourt     8510 non-null   float64\n",
      " 9   ShoppingMall  8485 non-null   float64\n",
      " 10  Spa           8510 non-null   float64\n",
      " 11  VRDeck        8505 non-null   float64\n",
      " 12  Name          8493 non-null   object \n",
      " 13  Transported   8693 non-null   bool   \n",
      "dtypes: bool(1), float64(6), object(7)\n",
      "memory usage: 891.5+ KB\n"
     ]
    }
   ],
   "source": [
    "df.info()"
   ]
  },
  {
   "cell_type": "code",
   "execution_count": 5,
   "id": "c78072b1",
   "metadata": {},
   "outputs": [
    {
     "name": "stdout",
     "output_type": "stream",
     "text": [
      "PassengerId       0\n",
      "HomePlanet      201\n",
      "CryoSleep       217\n",
      "Cabin           199\n",
      "Destination     182\n",
      "Age             179\n",
      "VIP             203\n",
      "RoomService     181\n",
      "FoodCourt       183\n",
      "ShoppingMall    208\n",
      "Spa             183\n",
      "VRDeck          188\n",
      "Name            200\n",
      "Transported       0\n",
      "dtype: int64\n"
     ]
    }
   ],
   "source": [
    "# Identify missing values and decide on a strategy for handling them\n",
    "missing_values = df.isnull().sum()\n",
    "print(missing_values)"
   ]
  },
  {
   "cell_type": "code",
   "execution_count": 6,
   "id": "51f47478",
   "metadata": {},
   "outputs": [
    {
     "data": {
      "text/plain": [
       "0         Maham Ofracculy\n",
       "1            Juanna Vines\n",
       "2           Altark Susent\n",
       "3            Solam Susent\n",
       "4       Willy Santantines\n",
       "              ...        \n",
       "8688    Gravior Noxnuther\n",
       "8689      Kurta Mondalley\n",
       "8690         Fayey Connon\n",
       "8691     Celeon Hontichre\n",
       "8692     Propsh Hontichre\n",
       "Name: Name, Length: 8693, dtype: object"
      ]
     },
     "execution_count": 6,
     "metadata": {},
     "output_type": "execute_result"
    }
   ],
   "source": [
    "df.Name"
   ]
  },
  {
   "cell_type": "code",
   "execution_count": 7,
   "id": "52a2ba56",
   "metadata": {},
   "outputs": [
    {
     "name": "stdout",
     "output_type": "stream",
     "text": [
      "Transported     1.000000\n",
      "RoomService     0.244611\n",
      "Spa             0.221131\n",
      "VRDeck          0.207075\n",
      "Age             0.075026\n",
      "FoodCourt       0.046566\n",
      "ShoppingMall    0.010141\n",
      "Name: Transported, dtype: float64\n"
     ]
    },
    {
     "name": "stderr",
     "output_type": "stream",
     "text": [
      "C:\\Users\\scank\\AppData\\Local\\Temp\\ipykernel_7204\\2655698084.py:2: FutureWarning: The default value of numeric_only in DataFrame.corr is deprecated. In a future version, it will default to False. Select only valid columns or specify the value of numeric_only to silence this warning.\n",
      "  feature_correlations = df.corr()['Transported'].abs().sort_values(ascending=False)\n"
     ]
    }
   ],
   "source": [
    "# Explore the relationships between features and the target variable\n",
    "feature_correlations = df.corr()['Transported'].abs().sort_values(ascending=False)\n",
    "print(feature_correlations)"
   ]
  },
  {
   "cell_type": "code",
   "execution_count": 8,
   "id": "197e47a1",
   "metadata": {},
   "outputs": [
    {
     "data": {
      "image/png": "[encoded data removed]",
      "text/plain": [
       "<Figure size 800x2000 with 6 Axes>"
      ]
     },
     "metadata": {},
     "output_type": "display_data"
    }
   ],
   "source": [
    "# Select numeric features\n",
    "numeric_features = df.select_dtypes(include=['int64', 'float64']).columns\n",
    "\n",
    "# Calculate the number of rows and columns for subplots\n",
    "nrows = len(numeric_features)\n",
    "ncols = 1\n",
    "\n",
    "# Visualize the distributions of numeric features\n",
    "fig, axes = plt.subplots(nrows=nrows, ncols=ncols, figsize=(8, 20))\n",
    "fig.subplots_adjust(hspace=0.4)\n",
    "\n",
    "for i, column in enumerate(numeric_features):\n",
    "    ax = axes[i]\n",
    "    ax.hist(df[column], bins=20)\n",
    "    ax.set_xlabel(column)\n",
    "    ax.set_ylabel('Frequency')\n",
    "\n",
    "plt.show()\n"
   ]
  },
  {
   "cell_type": "code",
   "execution_count": 9,
   "id": "28c328f1",
   "metadata": {},
   "outputs": [
    {
     "data": {
      "image/png": "[encoded data removed]",
      "text/plain": [
       "<Figure size 600x400 with 1 Axes>"
      ]
     },
     "metadata": {},
     "output_type": "display_data"
    }
   ],
   "source": [
    "# Count the occurrences of each clas\n",
    "class_counts = df['Transported'].value_counts()\n",
    "\n",
    "# Visualize the distribution of the target variable\n",
    "plt.figure(figsize=(6, 4))\n",
    "plt.bar(class_counts.index, class_counts.values)\n",
    "plt.xlabel('Transported')\n",
    "plt.ylabel('Count')\n",
    "plt.xticks([0, 1], ['False', 'True'])\n",
    "plt.title('Distribution of Target Variable')\n",
    "plt.show()"
   ]
  },
  {
   "cell_type": "code",
   "execution_count": 10,
   "id": "000ba17d",
   "metadata": {},
   "outputs": [
    {
     "data": {
      "image/png": "[encoded data removed]",
      "text/plain": [
       "<Figure size 640x480 with 1 Axes>"
      ]
     },
     "metadata": {},
     "output_type": "display_data"
    },
    {
     "data": {
      "image/png": "[encoded data removed]",
      "text/plain": [
       "<Figure size 640x480 with 1 Axes>"
      ]
     },
     "metadata": {},
     "output_type": "display_data"
    }
   ],
   "source": [
    "# Define the categorical features of interest\n",
    "categorical_features = ['HomePlanet', 'CryoSleep']\n",
    "\n",
    "# Create bar plots for each categorical feature\n",
    "for feature in categorical_features:\n",
    "    # Count the occurrences of each class within the feature\n",
    "    class_counts = df.groupby(feature)['Transported'].value_counts().unstack()\n",
    "\n",
    "    # Plot the distribution of the target variable for different categories/levels\n",
    "    class_counts.plot(kind='bar', stacked=True)\n",
    "    plt.xlabel(feature)\n",
    "    plt.ylabel('Count')\n",
    "    plt.title('Distribution of Target Variable for {}'.format(feature))\n",
    "    plt.legend(['False', 'True'])\n",
    "    plt.show()"
   ]
  },
  {
   "cell_type": "code",
   "execution_count": 11,
   "id": "20b91cb5",
   "metadata": {},
   "outputs": [
    {
     "name": "stdout",
     "output_type": "stream",
     "text": [
      "Number of unique values in 'PassengerId': 8693\n",
      "Number of unique values in 'HomePlanet': 3\n",
      "Number of unique values in 'CryoSleep': 2\n",
      "Number of unique values in 'Cabin': 6560\n",
      "Number of unique values in 'Destination': 3\n",
      "Number of unique values in 'VIP': 2\n",
      "Number of unique values in 'Name': 8473\n"
     ]
    }
   ],
   "source": [
    "# Find categorical features\n",
    "categorical_features = df.select_dtypes(include=['object']).columns\n",
    "\n",
    "# Print number of unique values in each category\n",
    "for feature in categorical_features:\n",
    "    unique_count = df[feature].nunique()\n",
    "    print(\"Number of unique values in '{}': {}\".format(feature, unique_count))\n"
   ]
  },
  {
   "cell_type": "markdown",
   "id": "96ebe38b",
   "metadata": {},
   "source": [
    "### 2. Data Preprocessing & Feature Engineering"
   ]
  },
  {
   "cell_type": "markdown",
   "id": "9555eef3",
   "metadata": {},
   "source": [
    "Based on the given variables, here are some suggestions for feature engineering:\n",
    "\n",
    "**Group Size**: Extract the group size from the PassengerId variable. This can be done by splitting the PassengerId string and counting the number of passengers in each group. This feature could potentially capture the dynamics of traveling with family or friends.\n",
    "\n",
    "**Departure Planet Type**: Analyze the HomePlanet variable and create a new categorical feature that represents the type of departure planet. This can be based on different criteria, such as planet classification (e.g., terrestrial, gas giant) or specific categories (e.g., Earth-like, exoplanet).\n",
    "\n",
    "**Cabin Deck**: Extract the deck information from the Cabin variable. This can provide insights into the location of the passenger's cabin on the spaceship. Creating a separate feature for the deck could capture potential patterns related to cabin proximity to certain amenities or evacuation routes.\n",
    "\n",
    "**Cabin Side**: Extract the side (Port or Starboard) from the Cabin variable. This can provide information about the passenger's location in terms of ship orientation. It might be interesting to investigate if there are any correlations between the cabin side and the likelihood of being transported.\n",
    "\n",
    "**Age Group**: Group the passengers into different age groups to capture potential age-related patterns. This can be done by creating bins based on age ranges (e.g., children, young adults, middle-aged, elderly).\n",
    "\n",
    "**Total Luxury Spending**: Sum up the amounts billed at the luxury amenities (RoomService, FoodCourt, ShoppingMall, Spa, VRDeck) to create a new feature representing the total luxury spending by each passenger.\n",
    "\n"
   ]
  },
  {
   "cell_type": "code",
   "execution_count": 12,
   "id": "05b5d650",
   "metadata": {},
   "outputs": [],
   "source": [
    "df = pd.read_csv(\"data/train.csv\")"
   ]
  },
  {
   "cell_type": "code",
   "execution_count": 13,
   "id": "74ea4f0f",
   "metadata": {},
   "outputs": [],
   "source": [
    "# Create preprocessing function so that we can use it on the test set\n",
    "\n",
    "def preprocessing(df):\n",
    "    # Select numeric columns\n",
    "    numeric_cols = df.select_dtypes(include=np.number).columns\n",
    "\n",
    "    # Fill missing values with median\n",
    "    df[numeric_cols] = df[numeric_cols].fillna(df[numeric_cols].median())\n",
    "\n",
    "    # Find categorical variables\n",
    "    categorical_columns = df.select_dtypes(include='object').columns\n",
    "\n",
    "    # Exclude 'CryoSleep' column\n",
    "    categorical_columns = categorical_columns.drop('CryoSleep')\n",
    "\n",
    "    # Fill missing values in categorical variables\n",
    "    df[categorical_columns] = df[categorical_columns].fillna('missing')\n",
    "    \n",
    "    # Convert Boolean values to strings\n",
    "    df['CryoSleep'] = df['CryoSleep'].astype(str)\n",
    "    df['VIP'] = df['VIP'].astype(str)\n",
    "    df['Transported'] = df['Transported'].astype(str)\n",
    "    \n",
    "    # Drop Name\n",
    "    df.drop('Name', axis=1, inplace=True)\n",
    "\n",
    "\n",
    "    \n",
    "def feature_engineering(df):\n",
    "    # ---------------------------------------------------------\n",
    "    # Feature 1) Group Size \n",
    "    # ---------------------------------------------------------\n",
    "    \n",
    "    # Split the PassengerId column to extract group and individual numbers\n",
    "    split_ids = df['PassengerId'].str.split('_', expand=True)\n",
    "\n",
    "    # Extract the group number\n",
    "    df['Group'] = split_ids[0]\n",
    "\n",
    "    # Extract the individual number and convert to integer\n",
    "    df['Individual'] = split_ids[1].astype(int)\n",
    "\n",
    "    # Calculate the maximum group size\n",
    "    group_sizes = df.groupby('Group')['Individual'].max()\n",
    "\n",
    "    # Map the maximum group size to each passenger\n",
    "    df['GroupSize'] = df['Group'].map(group_sizes)\n",
    "    \n",
    "    # Drop additional features we've created to make GroupSize\n",
    "    df.drop(['Group', 'Individual', 'PassengerId'], axis=1, inplace=True)\n",
    "    \n",
    "    # ---------------------------------------------------------\n",
    "    # Feature 2) Cabin Side \n",
    "    # ---------------------------------------------------------\n",
    "    \n",
    "    # Extract Cabin Side from Cabin variable\n",
    "    df['CabinSide'] = df['Cabin'].str.split('/').str[-1]\n",
    "    \n",
    "    # ---------------------------------------------------------\n",
    "    # Feature 3) Cabin Deck \n",
    "    # ---------------------------------------------------------\n",
    "    \n",
    "    # Extract Cabin Deck from Cabin variable\n",
    "    df['CabinDeck'] = df['Cabin'].str.split('/').str[0]\n",
    "    \n",
    "    # Drop Cabin since it has high number of unique values\n",
    "    df.drop(['Cabin'], axis=1, inplace=True)\n",
    "    \n",
    "    # ---------------------------------------------------------\n",
    "    # Feature 4) Age Categories\n",
    "    # ---------------------------------------------------------\n",
    "    \n",
    "    # Define the age ranges for the different categories\n",
    "    age_bins = [0, 10, 18, 30, 50, float('inf')]  # Customize the age ranges as per your preference\n",
    "\n",
    "    # Define the labels for the age categories\n",
    "    age_labels = ['Children', 'Teenagers', 'Young Adults', 'Middle-aged', 'Elderly']\n",
    "\n",
    "    # Create the \"AgeGroup\" feature by binning the ages\n",
    "    df['AgeGroup'] = pd.cut(df['Age'], bins=age_bins, labels=age_labels, right=False)\n",
    "    \n",
    "    \n",
    "    # ---------------------------------------------------------\n",
    "    # Feature 5) Total Luxury Spending\n",
    "    # ---------------------------------------------------------\n",
    "    \n",
    "    # Sum up the luxury spending for each passenger\n",
    "    df['TotalLuxurySpending'] = df[['RoomService', 'FoodCourt', 'ShoppingMall', 'Spa', 'VRDeck']].sum(axis=1)\n"
   ]
  },
  {
   "cell_type": "code",
   "execution_count": 14,
   "id": "806ecc2c",
   "metadata": {},
   "outputs": [],
   "source": [
    "preprocessing(df)\n",
    "feature_engineering(df)"
   ]
  },
  {
   "cell_type": "code",
   "execution_count": 15,
   "id": "c2608802",
   "metadata": {},
   "outputs": [],
   "source": [
    "from sklearn.preprocessing import MinMaxScaler, StandardScaler\n",
    "\n",
    "# Create a function for MinMaxScaler\n",
    "def min_max_scaling(df):\n",
    "    scaler = MinMaxScaler()\n",
    "    numeric_columns = df.select_dtypes(include='number').columns\n",
    "    df_scaled = df.copy()  # Create a copy of the original dataframe\n",
    "    df_scaled[numeric_columns] = scaler.fit_transform(df_scaled[numeric_columns])\n",
    "    return df_scaled\n",
    "\n",
    "# Apply MinMaxScaler to numeric columns\n",
    "df_min_max_scaled = min_max_scaling(df)"
   ]
  },
  {
   "cell_type": "code",
   "execution_count": 16,
   "id": "8512ea82",
   "metadata": {},
   "outputs": [
    {
     "data": {
      "text/plain": [
       "(8693, 16)"
      ]
     },
     "execution_count": 16,
     "metadata": {},
     "output_type": "execute_result"
    }
   ],
   "source": [
    "df_min_max_scaled.shape"
   ]
  },
  {
   "cell_type": "code",
   "execution_count": 17,
   "id": "a24fea83",
   "metadata": {},
   "outputs": [],
   "source": [
    "def encode_categorical(df):\n",
    "    # Get the list of categorical columns excluding 'Transported'\n",
    "    categorical_columns = df.select_dtypes(include=['object', 'category']).columns.drop('Transported')\n",
    "    \n",
    "    # Perform one-hot encoding for categorical columns except 'Transported'\n",
    "    df_encoded = pd.get_dummies(df, columns=categorical_columns)\n",
    "    \n",
    "    # Transform the independent variable\n",
    "    df_encoded['Transported'] = df_encoded['Transported'].map({'True': 1, 'False': 0})\n",
    "\n",
    "        \n",
    "    return df_encoded\n"
   ]
  },
  {
   "cell_type": "code",
   "execution_count": 18,
   "id": "b2613a3c",
   "metadata": {},
   "outputs": [],
   "source": [
    "df_encoded = encode_categorical(df_min_max_scaled)"
   ]
  },
  {
   "cell_type": "code",
   "execution_count": 19,
   "id": "a70c09ea",
   "metadata": {},
   "outputs": [
    {
     "data": {
      "text/plain": [
       "(8693, 40)"
      ]
     },
     "execution_count": 19,
     "metadata": {},
     "output_type": "execute_result"
    }
   ],
   "source": [
    "df_encoded.shape"
   ]
  },
  {
   "cell_type": "markdown",
   "id": "b1050688",
   "metadata": {},
   "source": [
    "### 3)Model Training"
   ]
  },
  {
   "cell_type": "code",
   "execution_count": 21,
   "id": "b2680457",
   "metadata": {},
   "outputs": [],
   "source": [
    "from sklearn.model_selection import train_test_split\n",
    "from sklearn.ensemble import GradientBoostingClassifier\n",
    "from sklearn.neural_network import MLPClassifier\n",
    "\n",
    "X = df_encoded.drop('Transported', axis=1)\n",
    "y = df_encoded['Transported']\n",
    "\n",
    "X_train, X_test, y_train, y_test = train_test_split(X, \n",
    "                                                    y, \n",
    "                                                    test_size=0.3, \n",
    "                                                    random_state=42)\n",
    "\n",
    "# Create a dictionary for each algorithm\n",
    "algorithms = {\n",
    "    'Gradient Boosting': GradientBoostingClassifier(),\n",
    "    'Neural Network': MLPClassifier()\n",
    "}"
   ]
  },
  {
   "cell_type": "code",
   "execution_count": 22,
   "id": "540dfcd6",
   "metadata": {},
   "outputs": [
    {
     "name": "stdout",
     "output_type": "stream",
     "text": [
      "Gradient Boosting: 0.7914110429447853\n",
      "Neural Network: 0.7868098159509203\n"
     ]
    },
    {
     "name": "stderr",
     "output_type": "stream",
     "text": [
      "C:\\Users\\scank\\newanaconda3\\lib\\site-packages\\sklearn\\neural_network\\_multilayer_perceptron.py:686: ConvergenceWarning: Stochastic Optimizer: Maximum iterations (200) reached and the optimization hasn't converged yet.\n",
      "  warnings.warn(\n"
     ]
    }
   ],
   "source": [
    "# Initialize a dictionary to store the initial scores\n",
    "base_scores = {}\n",
    "\n",
    "# Fit each algorithm and calculate initial scores\n",
    "for name, algorithm in algorithms.items():\n",
    "    algorithm.fit(X_train, y_train)\n",
    "    score = algorithm.score(X_test, y_test)\n",
    "    base_scores[name] = score\n",
    "\n",
    "# Print the initial scores\n",
    "for name, score in base_scores.items():\n",
    "    print(f\"{name}: {score}\")\n"
   ]
  },
  {
   "cell_type": "markdown",
   "id": "347198e0",
   "metadata": {},
   "source": [
    "### 4. Make Predictions "
   ]
  },
  {
   "cell_type": "code",
   "execution_count": 23,
   "id": "c0f82d00",
   "metadata": {},
   "outputs": [],
   "source": [
    "test_df = pd.read_csv('data/test_spaceship.csv')"
   ]
  },
  {
   "cell_type": "code",
   "execution_count": 24,
   "id": "04510ad9",
   "metadata": {},
   "outputs": [
    {
     "data": {
      "text/html": [
       "<div>\n",
       "<style scoped>\n",
       "    .dataframe tbody tr th:only-of-type {\n",
       "        vertical-align: middle;\n",
       "    }\n",
       "\n",
       "    .dataframe tbody tr th {\n",
       "        vertical-align: top;\n",
       "    }\n",
       "\n",
       "    .dataframe thead th {\n",
       "        text-align: right;\n",
       "    }\n",
       "</style>\n",
       "<table border=\"1\" class=\"dataframe\">\n",
       "  <thead>\n",
       "    <tr style=\"text-align: right;\">\n",
       "      <th></th>\n",
       "      <th>PassengerId</th>\n",
       "      <th>HomePlanet</th>\n",
       "      <th>CryoSleep</th>\n",
       "      <th>Cabin</th>\n",
       "      <th>Destination</th>\n",
       "      <th>Age</th>\n",
       "      <th>VIP</th>\n",
       "      <th>RoomService</th>\n",
       "      <th>FoodCourt</th>\n",
       "      <th>ShoppingMall</th>\n",
       "      <th>Spa</th>\n",
       "      <th>VRDeck</th>\n",
       "      <th>Name</th>\n",
       "    </tr>\n",
       "  </thead>\n",
       "  <tbody>\n",
       "    <tr>\n",
       "      <th>0</th>\n",
       "      <td>0013_01</td>\n",
       "      <td>Earth</td>\n",
       "      <td>True</td>\n",
       "      <td>G/3/S</td>\n",
       "      <td>TRAPPIST-1e</td>\n",
       "      <td>27.0</td>\n",
       "      <td>False</td>\n",
       "      <td>0.0</td>\n",
       "      <td>0.0</td>\n",
       "      <td>0.0</td>\n",
       "      <td>0.0</td>\n",
       "      <td>0.0</td>\n",
       "      <td>Nelly Carsoning</td>\n",
       "    </tr>\n",
       "    <tr>\n",
       "      <th>1</th>\n",
       "      <td>0018_01</td>\n",
       "      <td>Earth</td>\n",
       "      <td>False</td>\n",
       "      <td>F/4/S</td>\n",
       "      <td>TRAPPIST-1e</td>\n",
       "      <td>19.0</td>\n",
       "      <td>False</td>\n",
       "      <td>0.0</td>\n",
       "      <td>9.0</td>\n",
       "      <td>0.0</td>\n",
       "      <td>2823.0</td>\n",
       "      <td>0.0</td>\n",
       "      <td>Lerome Peckers</td>\n",
       "    </tr>\n",
       "    <tr>\n",
       "      <th>2</th>\n",
       "      <td>0019_01</td>\n",
       "      <td>Europa</td>\n",
       "      <td>True</td>\n",
       "      <td>C/0/S</td>\n",
       "      <td>55 Cancri e</td>\n",
       "      <td>31.0</td>\n",
       "      <td>False</td>\n",
       "      <td>0.0</td>\n",
       "      <td>0.0</td>\n",
       "      <td>0.0</td>\n",
       "      <td>0.0</td>\n",
       "      <td>0.0</td>\n",
       "      <td>Sabih Unhearfus</td>\n",
       "    </tr>\n",
       "    <tr>\n",
       "      <th>3</th>\n",
       "      <td>0021_01</td>\n",
       "      <td>Europa</td>\n",
       "      <td>False</td>\n",
       "      <td>C/1/S</td>\n",
       "      <td>TRAPPIST-1e</td>\n",
       "      <td>38.0</td>\n",
       "      <td>False</td>\n",
       "      <td>0.0</td>\n",
       "      <td>6652.0</td>\n",
       "      <td>0.0</td>\n",
       "      <td>181.0</td>\n",
       "      <td>585.0</td>\n",
       "      <td>Meratz Caltilter</td>\n",
       "    </tr>\n",
       "    <tr>\n",
       "      <th>4</th>\n",
       "      <td>0023_01</td>\n",
       "      <td>Earth</td>\n",
       "      <td>False</td>\n",
       "      <td>F/5/S</td>\n",
       "      <td>TRAPPIST-1e</td>\n",
       "      <td>20.0</td>\n",
       "      <td>False</td>\n",
       "      <td>10.0</td>\n",
       "      <td>0.0</td>\n",
       "      <td>635.0</td>\n",
       "      <td>0.0</td>\n",
       "      <td>0.0</td>\n",
       "      <td>Brence Harperez</td>\n",
       "    </tr>\n",
       "  </tbody>\n",
       "</table>\n",
       "</div>"
      ],
      "text/plain": [
       "  PassengerId HomePlanet CryoSleep  Cabin  Destination   Age    VIP  \\\n",
       "0     0013_01      Earth      True  G/3/S  TRAPPIST-1e  27.0  False   \n",
       "1     0018_01      Earth     False  F/4/S  TRAPPIST-1e  19.0  False   \n",
       "2     0019_01     Europa      True  C/0/S  55 Cancri e  31.0  False   \n",
       "3     0021_01     Europa     False  C/1/S  TRAPPIST-1e  38.0  False   \n",
       "4     0023_01      Earth     False  F/5/S  TRAPPIST-1e  20.0  False   \n",
       "\n",
       "   RoomService  FoodCourt  ShoppingMall     Spa  VRDeck              Name  \n",
       "0          0.0        0.0           0.0     0.0     0.0   Nelly Carsoning  \n",
       "1          0.0        9.0           0.0  2823.0     0.0    Lerome Peckers  \n",
       "2          0.0        0.0           0.0     0.0     0.0   Sabih Unhearfus  \n",
       "3          0.0     6652.0           0.0   181.0   585.0  Meratz Caltilter  \n",
       "4         10.0        0.0         635.0     0.0     0.0   Brence Harperez  "
      ]
     },
     "execution_count": 24,
     "metadata": {},
     "output_type": "execute_result"
    }
   ],
   "source": [
    "test_df.head()"
   ]
  },
  {
   "cell_type": "code",
   "execution_count": 25,
   "id": "9362b25c",
   "metadata": {},
   "outputs": [],
   "source": [
    "passenger_ids = test_df['PassengerId'].tolist()"
   ]
  },
  {
   "cell_type": "code",
   "execution_count": 28,
   "id": "7bc825d4",
   "metadata": {},
   "outputs": [],
   "source": [
    "# Create preprocessing function so that we can use it on the test set\n",
    "\n",
    "def preprocessing(df):\n",
    "    # Select numeric columns\n",
    "    numeric_cols = df.select_dtypes(include=np.number).columns\n",
    "\n",
    "    # Fill missing values with median\n",
    "    df[numeric_cols] = df[numeric_cols].fillna(df[numeric_cols].median())\n",
    "\n",
    "    # Find categorical variables\n",
    "    categorical_columns = df.select_dtypes(include='object').columns\n",
    "\n",
    "    # Exclude 'CryoSleep' column\n",
    "    categorical_columns = categorical_columns.drop('CryoSleep')\n",
    "\n",
    "    # Fill missing values in categorical variables\n",
    "    df[categorical_columns] = df[categorical_columns].fillna('missing')\n",
    "    \n",
    "    # Convert Boolean values to strings\n",
    "    df['CryoSleep'] = df['CryoSleep'].astype(str)\n",
    "    df['VIP'] = df['VIP'].astype(str)\n",
    "\n",
    "    # Drop Name\n",
    "    df.drop('Name', axis=1, inplace=True)\n",
    "\n",
    "\n",
    "    \n",
    "def feature_engineering(df):\n",
    "    # ---------------------------------------------------------\n",
    "    # Feature 1) Group Size \n",
    "    # ---------------------------------------------------------\n",
    "    \n",
    "    # Split the PassengerId column to extract group and individual numbers\n",
    "    split_ids = df['PassengerId'].str.split('_', expand=True)\n",
    "\n",
    "    # Extract the group number\n",
    "    df['Group'] = split_ids[0]\n",
    "\n",
    "    # Extract the individual number and convert to integer\n",
    "    df['Individual'] = split_ids[1].astype(int)\n",
    "\n",
    "    # Calculate the maximum group size\n",
    "    group_sizes = df.groupby('Group')['Individual'].max()\n",
    "\n",
    "    # Map the maximum group size to each passenger\n",
    "    df['GroupSize'] = df['Group'].map(group_sizes)\n",
    "    \n",
    "    # Drop additional features we've created to make GroupSize\n",
    "    df.drop(['Group', 'Individual', 'PassengerId'], axis=1, inplace=True)\n",
    "    \n",
    "    # ---------------------------------------------------------\n",
    "    # Feature 2) Cabin Side \n",
    "    # ---------------------------------------------------------\n",
    "    \n",
    "    # Extract Cabin Side from Cabin variable\n",
    "    df['CabinSide'] = df['Cabin'].str.split('/').str[-1]\n",
    "    \n",
    "    # ---------------------------------------------------------\n",
    "    # Feature 3) Cabin Deck \n",
    "    # ---------------------------------------------------------\n",
    "    \n",
    "    # Extract Cabin Deck from Cabin variable\n",
    "    df['CabinDeck'] = df['Cabin'].str.split('/').str[0]\n",
    "    \n",
    "    # Drop Cabin since it has high number of unique values\n",
    "    df.drop(['Cabin'], axis=1, inplace=True)\n",
    "    \n",
    "    # ---------------------------------------------------------\n",
    "    # Feature 4) Age Categories\n",
    "    # ---------------------------------------------------------\n",
    "    \n",
    "    # Define the age ranges for the different categories\n",
    "    age_bins = [0, 10, 18, 30, 50, float('inf')]  # Customize the age ranges as per your preference\n",
    "\n",
    "    # Define the labels for the age categories\n",
    "    age_labels = ['Children', 'Teenagers', 'Young Adults', 'Middle-aged', 'Elderly']\n",
    "\n",
    "    # Create the \"AgeGroup\" feature by binning the ages\n",
    "    df['AgeGroup'] = pd.cut(df['Age'], bins=age_bins, labels=age_labels, right=False)\n",
    "    \n",
    "    \n",
    "    # ---------------------------------------------------------\n",
    "    # Feature 5) Total Luxury Spending\n",
    "    # ---------------------------------------------------------\n",
    "    \n",
    "    # Sum up the luxury spending for each passenger\n",
    "    df['TotalLuxurySpending'] = df[['RoomService', 'FoodCourt', 'ShoppingMall', 'Spa', 'VRDeck']].sum(axis=1)\n",
    "\n",
    "    \n",
    "def encode_categorical(df):\n",
    "    # Get the list of categorical columns excluding 'Transported'\n",
    "    categorical_columns = df.select_dtypes(include=['object', 'category']).columns\n",
    "    \n",
    "    # Perform one-hot encoding for categorical columns except 'Transported'\n",
    "    df_encoded = pd.get_dummies(df, columns=categorical_columns)\n",
    "    return df_encoded\n"
   ]
  },
  {
   "cell_type": "code",
   "execution_count": 29,
   "id": "7c62867a",
   "metadata": {},
   "outputs": [],
   "source": [
    "preprocessing(test_df)\n",
    "feature_engineering(test_df)"
   ]
  },
  {
   "cell_type": "code",
   "execution_count": 30,
   "id": "b4c0259d",
   "metadata": {},
   "outputs": [],
   "source": [
    "test_df_scaled = min_max_scaling(test_df)\n",
    "test_df_encoded = encode_categorical(test_df)"
   ]
  },
  {
   "cell_type": "code",
   "execution_count": 31,
   "id": "08ebb6ec",
   "metadata": {},
   "outputs": [
    {
     "data": {
      "text/plain": [
       "(4277, 39)"
      ]
     },
     "execution_count": 31,
     "metadata": {},
     "output_type": "execute_result"
    }
   ],
   "source": [
    "test_df_encoded.shape"
   ]
  },
  {
   "cell_type": "code",
   "execution_count": 26,
   "id": "6cdd8cca",
   "metadata": {},
   "outputs": [
    {
     "data": {
      "text/html": [
       "<style>#sk-container-id-1 {color: black;background-color: white;}#sk-container-id-1 pre{padding: 0;}#sk-container-id-1 div.sk-toggleable {background-color: white;}#sk-container-id-1 label.sk-toggleable__label {cursor: pointer;display: block;width: 100%;margin-bottom: 0;padding: 0.3em;box-sizing: border-box;text-align: center;}#sk-container-id-1 label.sk-toggleable__label-arrow:before {content: \"▸\";float: left;margin-right: 0.25em;color: #696969;}#sk-container-id-1 label.sk-toggleable__label-arrow:hover:before {color: black;}#sk-container-id-1 div.sk-estimator:hover label.sk-toggleable__label-arrow:before {color: black;}#sk-container-id-1 div.sk-toggleable__content {max-height: 0;max-width: 0;overflow: hidden;text-align: left;background-color: #f0f8ff;}#sk-container-id-1 div.sk-toggleable__content pre {margin: 0.2em;color: black;border-radius: 0.25em;background-color: #f0f8ff;}#sk-container-id-1 input.sk-toggleable__control:checked~div.sk-toggleable__content {max-height: 200px;max-width: 100%;overflow: auto;}#sk-container-id-1 input.sk-toggleable__control:checked~label.sk-toggleable__label-arrow:before {content: \"▾\";}#sk-container-id-1 div.sk-estimator input.sk-toggleable__control:checked~label.sk-toggleable__label {background-color: #d4ebff;}#sk-container-id-1 div.sk-label input.sk-toggleable__control:checked~label.sk-toggleable__label {background-color: #d4ebff;}#sk-container-id-1 input.sk-hidden--visually {border: 0;clip: rect(1px 1px 1px 1px);clip: rect(1px, 1px, 1px, 1px);height: 1px;margin: -1px;overflow: hidden;padding: 0;position: absolute;width: 1px;}#sk-container-id-1 div.sk-estimator {font-family: monospace;background-color: #f0f8ff;border: 1px dotted black;border-radius: 0.25em;box-sizing: border-box;margin-bottom: 0.5em;}#sk-container-id-1 div.sk-estimator:hover {background-color: #d4ebff;}#sk-container-id-1 div.sk-parallel-item::after {content: \"\";width: 100%;border-bottom: 1px solid gray;flex-grow: 1;}#sk-container-id-1 div.sk-label:hover label.sk-toggleable__label {background-color: #d4ebff;}#sk-container-id-1 div.sk-serial::before {content: \"\";position: absolute;border-left: 1px solid gray;box-sizing: border-box;top: 0;bottom: 0;left: 50%;z-index: 0;}#sk-container-id-1 div.sk-serial {display: flex;flex-direction: column;align-items: center;background-color: white;padding-right: 0.2em;padding-left: 0.2em;position: relative;}#sk-container-id-1 div.sk-item {position: relative;z-index: 1;}#sk-container-id-1 div.sk-parallel {display: flex;align-items: stretch;justify-content: center;background-color: white;position: relative;}#sk-container-id-1 div.sk-item::before, #sk-container-id-1 div.sk-parallel-item::before {content: \"\";position: absolute;border-left: 1px solid gray;box-sizing: border-box;top: 0;bottom: 0;left: 50%;z-index: -1;}#sk-container-id-1 div.sk-parallel-item {display: flex;flex-direction: column;z-index: 1;position: relative;background-color: white;}#sk-container-id-1 div.sk-parallel-item:first-child::after {align-self: flex-end;width: 50%;}#sk-container-id-1 div.sk-parallel-item:last-child::after {align-self: flex-start;width: 50%;}#sk-container-id-1 div.sk-parallel-item:only-child::after {width: 0;}#sk-container-id-1 div.sk-dashed-wrapped {border: 1px dashed gray;margin: 0 0.4em 0.5em 0.4em;box-sizing: border-box;padding-bottom: 0.4em;background-color: white;}#sk-container-id-1 div.sk-label label {font-family: monospace;font-weight: bold;display: inline-block;line-height: 1.2em;}#sk-container-id-1 div.sk-label-container {text-align: center;}#sk-container-id-1 div.sk-container {/* jupyter's `normalize.less` sets `[hidden] { display: none; }` but bootstrap.min.css set `[hidden] { display: none !important; }` so we also need the `!important` here to be able to override the default hidden behavior on the sphinx rendered scikit-learn.org. See: https://github.com/scikit-learn/scikit-learn/issues/21755 */display: inline-block !important;position: relative;}#sk-container-id-1 div.sk-text-repr-fallback {display: none;}</style><div id=\"sk-container-id-1\" class=\"sk-top-container\"><div class=\"sk-text-repr-fallback\"><pre>GradientBoostingClassifier()</pre><b>In a Jupyter environment, please rerun this cell to show the HTML representation or trust the notebook. <br />On GitHub, the HTML representation is unable to render, please try loading this page with nbviewer.org.</b></div><div class=\"sk-container\" hidden><div class=\"sk-item\"><div class=\"sk-estimator sk-toggleable\"><input class=\"sk-toggleable__control sk-hidden--visually\" id=\"sk-estimator-id-1\" type=\"checkbox\" checked><label for=\"sk-estimator-id-1\" class=\"sk-toggleable__label sk-toggleable__label-arrow\">GradientBoostingClassifier</label><div class=\"sk-toggleable__content\"><pre>GradientBoostingClassifier()</pre></div></div></div></div></div>"
      ],
      "text/plain": [
       "GradientBoostingClassifier()"
      ]
     },
     "execution_count": 26,
     "metadata": {},
     "output_type": "execute_result"
    }
   ],
   "source": [
    "from sklearn.model_selection import train_test_split\n",
    "\n",
    "X = df_encoded.drop('Transported', axis=1)\n",
    "y = df_encoded['Transported']\n",
    "\n",
    "\n",
    "\n",
    "GB = GradientBoostingClassifier()\n",
    "GB.fit(X, y)"
   ]
  },
  {
   "cell_type": "code",
   "execution_count": 33,
   "id": "0ac34fe5",
   "metadata": {},
   "outputs": [],
   "source": [
    "preds = GB.predict(test_df_encoded)"
   ]
  },
  {
   "cell_type": "code",
   "execution_count": 35,
   "id": "3897bf67",
   "metadata": {},
   "outputs": [
    {
     "data": {
      "text/plain": [
       "True"
      ]
     },
     "execution_count": 35,
     "metadata": {},
     "output_type": "execute_result"
    }
   ],
   "source": [
    "len(preds) == len(passenger_ids)"
   ]
  },
  {
   "cell_type": "code",
   "execution_count": 39,
   "id": "268ed7bd",
   "metadata": {},
   "outputs": [],
   "source": [
    "import numpy as np\n",
    "\n",
    "# Map 1's to TRUE and 0's to FALSE\n",
    "preds_mapped = np.where(preds == 1, 'True', 'False')\n",
    "\n",
    "# Create DataFrame with passenger IDs and predictions\n",
    "submission_df = pd.DataFrame({'PassengerId': passenger_ids, 'Transported': preds_mapped})\n"
   ]
  },
  {
   "cell_type": "code",
   "execution_count": 40,
   "id": "4b77f5a1",
   "metadata": {},
   "outputs": [],
   "source": [
    "# Save the DataFrame as a CSV file\n",
    "submission_df.to_csv('submission.csv', index=False)\n"
   ]
  },
  {
   "cell_type": "code",
   "execution_count": 41,
   "id": "3d1f311f",
   "metadata": {},
   "outputs": [
    {
     "data": {
      "text/html": [
       "<style>#sk-container-id-2 {color: black;background-color: white;}#sk-container-id-2 pre{padding: 0;}#sk-container-id-2 div.sk-toggleable {background-color: white;}#sk-container-id-2 label.sk-toggleable__label {cursor: pointer;display: block;width: 100%;margin-bottom: 0;padding: 0.3em;box-sizing: border-box;text-align: center;}#sk-container-id-2 label.sk-toggleable__label-arrow:before {content: \"▸\";float: left;margin-right: 0.25em;color: #696969;}#sk-container-id-2 label.sk-toggleable__label-arrow:hover:before {color: black;}#sk-container-id-2 div.sk-estimator:hover label.sk-toggleable__label-arrow:before {color: black;}#sk-container-id-2 div.sk-toggleable__content {max-height: 0;max-width: 0;overflow: hidden;text-align: left;background-color: #f0f8ff;}#sk-container-id-2 div.sk-toggleable__content pre {margin: 0.2em;color: black;border-radius: 0.25em;background-color: #f0f8ff;}#sk-container-id-2 input.sk-toggleable__control:checked~div.sk-toggleable__content {max-height: 200px;max-width: 100%;overflow: auto;}#sk-container-id-2 input.sk-toggleable__control:checked~label.sk-toggleable__label-arrow:before {content: \"▾\";}#sk-container-id-2 div.sk-estimator input.sk-toggleable__control:checked~label.sk-toggleable__label {background-color: #d4ebff;}#sk-container-id-2 div.sk-label input.sk-toggleable__control:checked~label.sk-toggleable__label {background-color: #d4ebff;}#sk-container-id-2 input.sk-hidden--visually {border: 0;clip: rect(1px 1px 1px 1px);clip: rect(1px, 1px, 1px, 1px);height: 1px;margin: -1px;overflow: hidden;padding: 0;position: absolute;width: 1px;}#sk-container-id-2 div.sk-estimator {font-family: monospace;background-color: #f0f8ff;border: 1px dotted black;border-radius: 0.25em;box-sizing: border-box;margin-bottom: 0.5em;}#sk-container-id-2 div.sk-estimator:hover {background-color: #d4ebff;}#sk-container-id-2 div.sk-parallel-item::after {content: \"\";width: 100%;border-bottom: 1px solid gray;flex-grow: 1;}#sk-container-id-2 div.sk-label:hover label.sk-toggleable__label {background-color: #d4ebff;}#sk-container-id-2 div.sk-serial::before {content: \"\";position: absolute;border-left: 1px solid gray;box-sizing: border-box;top: 0;bottom: 0;left: 50%;z-index: 0;}#sk-container-id-2 div.sk-serial {display: flex;flex-direction: column;align-items: center;background-color: white;padding-right: 0.2em;padding-left: 0.2em;position: relative;}#sk-container-id-2 div.sk-item {position: relative;z-index: 1;}#sk-container-id-2 div.sk-parallel {display: flex;align-items: stretch;justify-content: center;background-color: white;position: relative;}#sk-container-id-2 div.sk-item::before, #sk-container-id-2 div.sk-parallel-item::before {content: \"\";position: absolute;border-left: 1px solid gray;box-sizing: border-box;top: 0;bottom: 0;left: 50%;z-index: -1;}#sk-container-id-2 div.sk-parallel-item {display: flex;flex-direction: column;z-index: 1;position: relative;background-color: white;}#sk-container-id-2 div.sk-parallel-item:first-child::after {align-self: flex-end;width: 50%;}#sk-container-id-2 div.sk-parallel-item:last-child::after {align-self: flex-start;width: 50%;}#sk-container-id-2 div.sk-parallel-item:only-child::after {width: 0;}#sk-container-id-2 div.sk-dashed-wrapped {border: 1px dashed gray;margin: 0 0.4em 0.5em 0.4em;box-sizing: border-box;padding-bottom: 0.4em;background-color: white;}#sk-container-id-2 div.sk-label label {font-family: monospace;font-weight: bold;display: inline-block;line-height: 1.2em;}#sk-container-id-2 div.sk-label-container {text-align: center;}#sk-container-id-2 div.sk-container {/* jupyter's `normalize.less` sets `[hidden] { display: none; }` but bootstrap.min.css set `[hidden] { display: none !important; }` so we also need the `!important` here to be able to override the default hidden behavior on the sphinx rendered scikit-learn.org. See: https://github.com/scikit-learn/scikit-learn/issues/21755 */display: inline-block !important;position: relative;}#sk-container-id-2 div.sk-text-repr-fallback {display: none;}</style><div id=\"sk-container-id-2\" class=\"sk-top-container\"><div class=\"sk-text-repr-fallback\"><pre>GradientBoostingClassifier(min_samples_leaf=2, min_samples_split=6,\n",
       "                           n_estimators=200)</pre><b>In a Jupyter environment, please rerun this cell to show the HTML representation or trust the notebook. <br />On GitHub, the HTML representation is unable to render, please try loading this page with nbviewer.org.</b></div><div class=\"sk-container\" hidden><div class=\"sk-item\"><div class=\"sk-estimator sk-toggleable\"><input class=\"sk-toggleable__control sk-hidden--visually\" id=\"sk-estimator-id-2\" type=\"checkbox\" checked><label for=\"sk-estimator-id-2\" class=\"sk-toggleable__label sk-toggleable__label-arrow\">GradientBoostingClassifier</label><div class=\"sk-toggleable__content\"><pre>GradientBoostingClassifier(min_samples_leaf=2, min_samples_split=6,\n",
       "                           n_estimators=200)</pre></div></div></div></div></div>"
      ],
      "text/plain": [
       "GradientBoostingClassifier(min_samples_leaf=2, min_samples_split=6,\n",
       "                           n_estimators=200)"
      ]
     },
     "execution_count": 41,
     "metadata": {},
     "output_type": "execute_result"
    }
   ],
   "source": [
    "from sklearn.ensemble import GradientBoostingClassifier\n",
    "\n",
    "# Create the Gradient Boosting Classifier\n",
    "gbc = GradientBoostingClassifier(learning_rate=0.1, max_depth=3, min_samples_leaf=2,\n",
    "                                 min_samples_split=6, n_estimators=200)\n",
    "\n",
    "# Fit the classifier to the training data\n",
    "gbc.fit(X,y)\n"
   ]
  },
  {
   "cell_type": "code",
   "execution_count": 43,
   "id": "3d4c4b63",
   "metadata": {},
   "outputs": [],
   "source": [
    "preds = gbc.predict(test_df_encoded)"
   ]
  },
  {
   "cell_type": "code",
   "execution_count": 45,
   "id": "2530a03b",
   "metadata": {},
   "outputs": [],
   "source": [
    "# Map 1's to TRUE and 0's to FALSE\n",
    "preds_mapped = np.where(preds == 1, 'True', 'False')\n",
    "\n",
    "# Create DataFrame with passenger IDs and predictions\n",
    "submission_df = pd.DataFrame({'PassengerId': passenger_ids, 'Transported': preds_mapped})\n",
    "\n",
    "# Save the DataFrame as a CSV file\n",
    "submission_df.to_csv('submission.csv', index=False)\n"
   ]
  },
  {
   "cell_type": "code",
   "execution_count": 46,
   "id": "ab8ecf0e",
   "metadata": {},
   "outputs": [],
   "source": [
    "mlpc = MLPClassifier()\n",
    "\n",
    "mlpc.fit(X,y)\n",
    "\n",
    "\n",
    "preds = mlpc.predict(test_df_encoded)\n",
    "\n",
    "# Map 1's to TRUE and 0's to FALSE\n",
    "preds_mapped = np.where(preds == 1, 'True', 'False')\n",
    "\n",
    "# Create DataFrame with passenger IDs and predictions\n",
    "submission_df = pd.DataFrame({'PassengerId': passenger_ids, 'Transported': preds_mapped})\n",
    "\n",
    "# Save the DataFrame as a CSV file\n",
    "submission_df.to_csv('submission.csv', index=False)\n"
   ]
  },
  {
   "cell_type": "code",
   "execution_count": null,
   "id": "62fafaa3",
   "metadata": {},
   "outputs": [],
   "source": []
  }
 ],
 "metadata": {
  "kernelspec": {
   "display_name": "Python 3 (ipykernel)",
   "language": "python",
   "name": "python3"
  },
  "language_info": {
   "codemirror_mode": {
    "name": "ipython",
    "version": 3
   },
   "file_extension": ".py",
   "mimetype": "text/x-python",
   "name": "python",
   "nbconvert_exporter": "python",
   "pygments_lexer": "ipython3",
   "version": "3.10.9"
  }
 },
 "nbformat": 4,
 "nbformat_minor": 5
}
